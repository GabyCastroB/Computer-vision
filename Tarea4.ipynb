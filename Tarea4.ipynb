{
  "nbformat": 4,
  "nbformat_minor": 0,
  "metadata": {
    "colab": {
      "provenance": []
    },
    "kernelspec": {
      "name": "python3",
      "display_name": "Python 3"
    },
    "language_info": {
      "name": "python"
    }
  },
  "cells": [
    {
      "cell_type": "markdown",
      "source": [
        "# Tarea #4 Morfología\n",
        "\n",
        "##Integrantes\n",
        "\n",
        "* Gabriela María Castro Beltrán\n",
        "* Juan Nicolas Carvajal Useche\n",
        "\n",
        "\n",
        "Primero, se importan las librerías e imágenes requeridas para el desarrollo del taller."
      ],
      "metadata": {
        "id": "hZdxvXGBGAEd"
      }
    },
    {
      "cell_type": "code",
      "execution_count": null,
      "metadata": {
        "colab": {
          "base_uri": "https://localhost:8080/"
        },
        "id": "igGJYmYRF98r",
        "outputId": "ee4d9fe2-9ca6-426f-bc79-d2fe5a7ee333"
      },
      "outputs": [
        {
          "output_type": "stream",
          "name": "stderr",
          "text": [
            "<ipython-input-2-665b70f12adf>:9: DeprecationWarning: Please use `uniform_filter` from the `scipy.ndimage` namespace, the `scipy.ndimage.filters` namespace is deprecated.\n",
            "  from scipy.ndimage.filters import uniform_filter\n",
            "<ipython-input-2-665b70f12adf>:10: DeprecationWarning: Please use `variance` from the `scipy.ndimage` namespace, the `scipy.ndimage.measurements` namespace is deprecated.\n",
            "  from scipy.ndimage.measurements import variance\n"
          ]
        }
      ],
      "source": [
        "# Importar librerias\n",
        "import os\n",
        "import cv2\n",
        "import matplotlib\n",
        "import math\n",
        "import numpy as np\n",
        "import matplotlib.pyplot as plt\n",
        "from numpy.core.multiarray import dtype\n",
        "from scipy.ndimage.filters import uniform_filter\n",
        "from scipy.ndimage.measurements import variance\n",
        "import scipy.ndimage.morphology as m\n",
        "from pylab import *\n",
        "import pandas as pd\n",
        "import matplotlib.pyplot as plt\n",
        "from google.colab.patches import cv2_imshow\n",
        "from scipy import ndimage\n",
        "\n",
        "# Importar imágenes\n",
        "#img = cv2.imread(\"pare.jpg\", cv2.IMREAD_COLOR)\n",
        "#img = cv2.cvtColor(img, cv2.COLOR_BGR2RGB)\n"
      ]
    },
    {
      "cell_type": "markdown",
      "source": [
        "#Algoritmo de dilatación direccional"
      ],
      "metadata": {
        "id": "9tZvMV2OGiYZ"
      }
    },
    {
      "cell_type": "markdown",
      "source": [
        "## Elementos estructurales según la dirección\n",
        "\n",
        "El primer paso es crear las matrices con los elementos estructurantes de la dilatación para cada dirección"
      ],
      "metadata": {
        "id": "KyN1IrAGe5QX"
      }
    },
    {
      "cell_type": "code",
      "source": [
        "# Elementos estructurantes\n",
        "E= np.array([[0, 0, 0],[0, 1, 1],[0, 0, 0]], dtype=np.uint8)\n",
        "NE= np.array([[0, 0, 1],[0, 1, 0],[0, 0, 0]], dtype=np.uint8)\n",
        "N= np.array([[0, 1, 0],[0, 1, 0],[0, 0, 0]], dtype=np.uint8)\n",
        "NW= np.array([[1, 0, 0],[0, 1, 0],[0, 0, 0]], dtype=np.uint8)\n",
        "W= np.array([[0, 0, 0],[1, 1, 0],[0, 0, 0]], dtype=np.uint8)\n",
        "SW= np.array([[0, 0, 0],[0, 1, 0],[1, 0, 0]], dtype=np.uint8)\n",
        "S= np.array([[0, 0, 0],[0, 1, 0],[0, 1, 0]], dtype=np.uint8)\n",
        "SE= np.array([[0, 0, 0],[0, 1, 0],[0, 0, 1]], dtype=np.uint8)\n"
      ],
      "metadata": {
        "id": "ypoM8mXgGnfz"
      },
      "execution_count": null,
      "outputs": []
    },
    {
      "cell_type": "markdown",
      "source": [
        "Ahora, se implementa el algoritmo, primero se escribe como función la fórmula de dilatación direccional vista en clase"
      ],
      "metadata": {
        "id": "POp1Buxx0AOp"
      }
    },
    {
      "cell_type": "code",
      "source": [
        "#función de dilatación direccional\n",
        "def calculaD(alpha,beta,d,a1,a2):\n",
        "  D = float(beta*a1*a2*math.exp(-(d**2)/(alpha**2)))\n",
        "  return D"
      ],
      "metadata": {
        "id": "SkLWOD2e1Ikb"
      },
      "execution_count": null,
      "outputs": []
    },
    {
      "cell_type": "markdown",
      "source": [
        "La siguiente función aplica la dilatación con el elemento estructurante deseado y en un número de iteraciones determinadas por la ecuación de dilatación direccional y los parámetros de intervalos vistos en clase. Esta función dilata solo un objeto según el contorno de entrada"
      ],
      "metadata": {
        "id": "MWLcMr5X1IT8"
      }
    },
    {
      "cell_type": "code",
      "source": [
        "def dilateObject(imagen,contornos,kernel,it,i):\n",
        "  it=it*3\n",
        "  gray = cv2.cvtColor(imagen, cv2.COLOR_BGR2GRAY) #A escala de grises\n",
        "\n",
        "  ret, th= cv2.threshold(gray,  240, 255, cv2.THRESH_BINARY_INV) #se umbraliza la imagen y se guarda en th\n",
        "  imr = np.zeros((imagen.shape[0], imagen.shape[1]), np.uint8)\n",
        "  ##Para dilatar un objeto de una imagen\n",
        "  # Crear una máscara del mismo tamaño que la imagen, inicializada a ceros\n",
        "  mask1 = np.zeros((imagen.shape[0], imagen.shape[1]), np.uint8)\n",
        "  mask1 = cv2.drawContours(mask1,contornos,i,255, -1) #dibujar los contornos de la región de interés\n",
        "\n",
        "  #Se dilata la imagen umbralizada, la máscara y la imagen original\n",
        "  dilate_th = cv2.dilate(th, kernel, iterations=it)\n",
        "  dilate_mask = cv2.dilate(mask1, kernel, iterations=it)\n",
        "\n",
        "  # Retener la región de interés en una imagen por separado\n",
        "  im1 = cv2.bitwise_and(dilate_th, dilate_mask)\n",
        "\n",
        "  # El complemento de la región de interés\n",
        "  dilate_mask_inv = cv2.bitwise_not(dilate_mask)\n",
        "  im2 = cv2.bitwise_and(th, dilate_mask_inv)\n",
        "\n",
        "  #se suma la región de interés dilatada con la imagen original\n",
        "  res = cv2.add(im1, im2)\n",
        "  return res"
      ],
      "metadata": {
        "id": "0Vc53Y5L1M1B"
      },
      "execution_count": null,
      "outputs": []
    },
    {
      "cell_type": "markdown",
      "source": [
        "Para el algoritmo es requerido calcular las propiedades de centroide y área. Esto se hizo hallando los momentos de área usando la función cv2.moments, donde se generan los momentos de un contorno específico (i), luego, se halla el centroide en x y en y y se van almacenando en vectores, luego se calculan las áreas usando cv2.contourArea y de la misma manera se van guardando cada valor de cada objeto en un arreglo en cada iteración."
      ],
      "metadata": {
        "id": "LVpEDfWr1NMj"
      }
    },
    {
      "cell_type": "code",
      "source": [
        "#recorre la imagen y extrae los centroides y áreas de cada objeto\n",
        "def centroide_area(contornos,imagen):\n",
        "  #inicialización de variables de la función de dilatación direccional\n",
        "  cXa = zeros(len(contornos))\n",
        "  cYa = zeros(len(contornos))\n",
        "  areaA = zeros(len(contornos))\n",
        "  perA = zeros(len(contornos))\n",
        "\n",
        "  for i in range(len(contornos)):\n",
        "    cnt=contornos[i]\n",
        "    M=cv2.moments(cnt)\n",
        "    cX=int(M[\"m10\"]/M[\"m00\"])\n",
        "    cXa[i]=cX\n",
        "    cY=int(M[\"m01\"]/M[\"m00\"])\n",
        "    cYa[i]=cY\n",
        "    area=cv2.contourArea(cnt)\n",
        "    areaA[i] = area\n",
        "    perimetro=cv2.arcLength(cnt, True)\n",
        "    perA[i] = perimetro\n",
        "\n",
        "    #También se dibujan cuadrados envolventes de los objetos y puntos que muestren los centroides de cada objeto y su valor,\n",
        "    #luego se imprime esta imagen, esto con único fin de ayuda visual y verificación del algoritmo\n",
        "\n",
        "    cv2.circle(imagen, (cX, cY),5, (0,255,0),-1)\n",
        "    cv2.putText(imagen, \"x: \"+str (cX)+\", y: \"+str (cY), (cX, cY),1,1, (0,0,0),1)\n",
        "    x,y,w,h=cv2.boundingRect(cnt)\n",
        "    cv2.rectangle(imagen,(x, y),(x+w, y+h), (0,255,0),3)\n",
        "    #cv2.waitKey(0)\n",
        "\n",
        "  plt.figure()\n",
        "  plt.imshow(imagen,cmap='gray')\n",
        "  plt.title(\"Imagen con los objetos y centroides identificados\")\n",
        "  return cXa,cYa,areaA"
      ],
      "metadata": {
        "id": "r8pr7VEI4OYz"
      },
      "execution_count": null,
      "outputs": []
    },
    {
      "cell_type": "markdown",
      "source": [
        "Ahora en esta función se aplica la dilatación direccional, recibiendo como parámetros los elementos para calcular la fórmula y la imagen. Se tienen dos ciclos anidados, con el fin de comparar cada objeto con los demás. El primer paso es inicializar las variables de dilatación en 0, luego, calcular los vectores que unen el centroide de un objeto con los demás, a este vector se le calcula el ángulo para determinar en qué dirección está el objeto, según este valor, el condicional if almacenará el valor de la función de dilatación direccional en la variable correspondiente, y así con cada objeto. Ya calculado todo esto, se normalizan respecto al valor máximo y posteriormente según el valor de cada dirección, se selecciona el número de iteraciones a dilatar en cada dirección. Luego se pasa al siguiente objeto y se repite este proceso hasta haberlo hecho con cada objeto detectado."
      ],
      "metadata": {
        "id": "U1LUqU7w4PEj"
      }
    },
    {
      "cell_type": "code",
      "source": [
        "def dilatacion_direc(cXa,cYa,areaA,contornos,imagen):\n",
        "  alpha = 300.0\n",
        "  beta = 2\n",
        "  imr = np.zeros((imagen.shape[0], imagen.shape[1]), np.uint8) #Aquí se guarda la imagen resultante\n",
        "  j = 0\n",
        "  i = 0\n",
        "\n",
        "  #ciclo para comparar cada objeto con los demás y determinar el valor de D\n",
        "  while(i<=len(contornos)-1):\n",
        "    j = 0\n",
        "\n",
        "    #inicializar valores de la función en cada dirección\n",
        "    DE = 0.0\n",
        "    DNE = 0.0\n",
        "    DN = 0.0\n",
        "    DNW = 0.0\n",
        "    DW = 0.0\n",
        "    DSW = 0.0\n",
        "    DS = 0.0\n",
        "    DSE = 0.0\n",
        "\n",
        "    while(j<=(len(contornos)-1)):\n",
        "      di_k = ((cXa[i]-cXa[j])**2 + (cYa[i]-cYa[j])**2)**0.5 #vector de distancia entre los centroides del objeto i y un objeto k\n",
        "      anglei_k = math.atan2((-cYa[i]+cYa[j]),(cXa[i]-cXa[j])) #ángulo de este vector (para determinar la región en hacia la que se debe dilatar)\n",
        "\n",
        "      #super if que evalúa los 8 posibles casos de los valores del ángulo y suma el valor de \"D\" a la dirección correspondiente\n",
        "      if (-pi/8<anglei_k<0 or 0<anglei_k<pi/8): #E\n",
        "        DE =  DE + calculaD(alpha,beta,di_k,areaA[i],areaA[j])\n",
        "      elif (pi/8<anglei_k<pi/8 + pi/4): #NE\n",
        "        DNE =  DNE + calculaD(alpha,beta,di_k,areaA[i],areaA[j])\n",
        "      elif (pi/8 + pi/4 <anglei_k< pi/8 + pi/2): #N\n",
        "        DN =  DN + calculaD(alpha,beta,di_k,areaA[i],areaA[j])\n",
        "      elif (pi/8 + pi/2 <anglei_k< pi/8 + pi/2 + pi/4): #NW\n",
        "        DNW =  DNW + calculaD(alpha,beta,di_k,areaA[i],areaA[j])\n",
        "      elif (pi/8 + pi/2 + pi/4  < anglei_k < pi or -pi  < anglei_k < -pi + pi/8): #W\n",
        "        DW =  DW + calculaD(alpha,beta,di_k,areaA[i],areaA[j])\n",
        "      elif (-pi+pi/8  < anglei_k < -pi+pi/8 + pi/4): #SW\n",
        "        DSW =  DSW + calculaD(alpha,beta,di_k,areaA[i],areaA[j])\n",
        "      elif (-pi + pi/8 + pi/4  < anglei_k < -pi+pi/8 + pi/2): #S\n",
        "        DS =  DS + calculaD(alpha,beta,di_k,areaA[i],areaA[j])\n",
        "      elif (-pi+pi/8 + pi/2  < anglei_k < -pi+pi/8 + pi/2 +pi/4): #SE\n",
        "        DSE =  DSE + calculaD(alpha,beta,di_k,areaA[i],areaA[j])\n",
        "      j+=1\n",
        "\n",
        "    #Se normalizan los valores de 0 a 1\n",
        "    maxv = np.max([DE,DNE,DN,DNW,DW,DSW,DS,DSE])\n",
        "    DE,DNE,DN,DNW,DW,DSW,DS,DSE = DE/maxv,DNE/maxv,DN/maxv,DNW/maxv,DW/maxv,DSW/maxv,DS/maxv,DSE/maxv\n",
        "\n",
        "    #Se evalúa el número de iteraciones de la dilatación en cada dirección y se ejecuta la dilatación, luego se guarda el resultado de la imagen\n",
        "\n",
        "    if (0<DE<0.25): #E\n",
        "      imr = cv2.add(imr,dilateObject(imagen,contornos,E,0,i))\n",
        "    elif (0.25<DE<0.5):\n",
        "      imr = cv2.add(imr,dilateObject(imagen,contornos,E,1,i))\n",
        "    elif (0.5<DE<0.75):\n",
        "      imr = cv2.add(imr,dilateObject(imagen,contornos,E,2,i))\n",
        "    elif (0.75<DE<=1):\n",
        "      imr = cv2.add(imr,dilateObject(imagen,contornos,E,3,i))\n",
        "\n",
        "    if (0<DNE<0.25): #NE\n",
        "      imr = cv2.add(imr,dilateObject(imagen,contornos,NE,0,i))\n",
        "    elif (0.25<DNE<0.5):\n",
        "      imr = cv2.add(imr,dilateObject(imagen,contornos,NE,1,i))\n",
        "    elif (0.5<DNE<0.75):\n",
        "      imr = cv2.add(imr,dilateObject(imagen,contornos,NE,2,i))\n",
        "    elif (0.75<DNE<=1):\n",
        "      imr = cv2.add(imr,dilateObject(imagen,contornos,NE,3,i))\n",
        "\n",
        "    if (0<DN<0.25): #N\n",
        "      imr = cv2.add(imr,dilateObject(imagen,contornos,N,0,i))\n",
        "    elif (0.25<DN<0.5):\n",
        "      imr = cv2.add(imr,dilateObject(imagen,contornos,N,1,i))\n",
        "    elif (0.5<DN<0.75):\n",
        "      imr = cv2.add(imr,dilateObject(imagen,contornos,N,2,i))\n",
        "    elif (0.75<DN<=1):\n",
        "      imr = cv2.add(imr,dilateObject(imagen,contornos,N,3,i))\n",
        "\n",
        "    if (0<DNW<0.25): #NW\n",
        "      imr = cv2.add(imr,dilateObject(imagen,contornos,NW,0,i))\n",
        "    elif (0.25<DNW<0.5):\n",
        "      imr = cv2.add(imr,dilateObject(imagen,contornos,NW,1,i))\n",
        "    elif (0.5<DNW<0.75):\n",
        "      imr = cv2.add(imr,dilateObject(imagen,contornos,NW,2,i))\n",
        "    elif (0.75<DNW<=1):\n",
        "      imr = cv2.add(imr,dilateObject(imagen,contornos,NW,3,i))\n",
        "\n",
        "    if (0<DW<0.25): #W\n",
        "      imr = cv2.add(imr,dilateObject(imagen,contornos,W,0,i))\n",
        "    elif (0.25<DW<0.5):\n",
        "      imr = cv2.add(imr,dilateObject(imagen,contornos,W,1,i))\n",
        "    elif (0.5<DW<0.75):\n",
        "      imr = cv2.add(imr,dilateObject(imagen,contornos,W,2,i))\n",
        "    elif (0.75<DW<=1):\n",
        "      imr = cv2.add(imr,dilateObject(imagen,contornos,W,3,i))\n",
        "\n",
        "    if (0<DSW<0.25): #SW\n",
        "      imr = cv2.add(imr,dilateObject(imagen,contornos,SW,0,i))\n",
        "    elif (0.25<DSW<0.5):\n",
        "      imr = cv2.add(imr,dilateObject(imagen,contornos,SW,1,i))\n",
        "    elif (0.5<DSW<0.75):\n",
        "      imr = cv2.add(imr,dilateObject(imagen,contornos,SW,2,i))\n",
        "    elif (0.75<DSW<=1):\n",
        "      imr = cv2.add(imr,dilateObject(imagen,contornos,SW,3,i))\n",
        "\n",
        "    if (0<DS<0.25): #S\n",
        "      imr = cv2.add(imr,dilateObject(imagen,contornos,S,0,i))\n",
        "    elif (0.25<DS<0.5):\n",
        "      imr = cv2.add(imr,dilateObject(imagen,contornos,S,1,i))\n",
        "    elif (0.5<DS<0.75):\n",
        "      imr = cv2.add(imr,dilateObject(imagen,contornos,S,2,i))\n",
        "    elif (0.75<DS<=1):\n",
        "      imr = cv2.add(imr,dilateObject(imagen,contornos,S,3,i))\n",
        "\n",
        "    if (0<DSE<0.25): #SE\n",
        "      imr = cv2.add(imr,dilateObject(imagen,contornos,SE,0,i))\n",
        "    elif (0.25<DSE<0.5):\n",
        "      imr = cv2.add(imr,dilateObject(imagen,contornos,SE,1,i))\n",
        "    elif (0.5<DSE<0.75):\n",
        "      imr = cv2.add(imr,dilateObject(imagen,contornos,SE,2,i))\n",
        "    elif (0.75<DSE<=1):\n",
        "      imr = cv2.add(imr,dilateObject(imagen,contornos,SE,3,i))\n",
        "\n",
        "    i+=1\n",
        "\n",
        "  return imr"
      ],
      "metadata": {
        "id": "g9NuSLidypOh"
      },
      "execution_count": null,
      "outputs": []
    },
    {
      "cell_type": "markdown",
      "source": [
        "Acá aplicamos el algoritmo a la imagen cargada"
      ],
      "metadata": {
        "id": "d-yAeTRA0Jf8"
      }
    },
    {
      "cell_type": "code",
      "source": [
        "imagen = cv2.imread('xd2.png') #cargar la imagen original\n",
        "gray = cv2.cvtColor(imagen, cv2.COLOR_BGR2GRAY) #A escala de grises\n",
        "\n",
        "\n",
        "ret, img_th= cv2.threshold(gray, 240, 255, cv2.THRESH_BINARY_INV) #se umbraliza la imagen y se guarda en th\n",
        "\n",
        "plt.figure(2); plt.imshow(img_th,cmap='gray'); plt.title(\"Imagen umbralizada original\")\n",
        "\n",
        "contornos,jerarquia=cv2.findContours(img_th, cv2.RETR_EXTERNAL, cv2.CHAIN_APPROX_SIMPLE) #se extraen los contornos de la imagen umbralizada\n",
        "cXa,cYa,area=centroide_area(contornos,imagen)\n",
        "img_dilatada=dilatacion_direc(cXa,cYa,area,contornos,imagen)\n",
        "\n",
        "\n",
        "\n",
        "plt.figure(3); plt.imshow(img_dilatada,cmap='gray'); plt.title(\"Imagen dilatada umbralizada\")\n"
      ],
      "metadata": {
        "colab": {
          "base_uri": "https://localhost:8080/",
          "height": 893
        },
        "id": "RnG1wwlTNv3U",
        "outputId": "92b31718-b68f-422c-c39d-fa5bca818c32"
      },
      "execution_count": null,
      "outputs": [
        {
          "output_type": "execute_result",
          "data": {
            "text/plain": [
              "Text(0.5, 1.0, 'Imagen dilatada umbralizada')"
            ]
          },
          "metadata": {},
          "execution_count": 52
        },
        {
          "output_type": "display_data",
          "data": {
            "text/plain": [
              "<Figure size 640x480 with 1 Axes>"
            ],
            "image/png": "[encoded data removed]"
          },
          "metadata": {}
        },
        {
          "output_type": "display_data",
          "data": {
            "text/plain": [
              "<Figure size 640x480 with 1 Axes>"
            ],
            "image/png": "[encoded data removed]"
          },
          "metadata": {}
        }
      ]
    },
    {
      "cell_type": "markdown",
      "source": [
        "Se observa en este ejemplo como la bola más grande es la que más atrae a los demás objetos, mientras que la bola pequeña no genera casi efecto en los otros. Para esta aplicación, se tuvo que multiplicar x3 el número de iteraciones de los parámetros vistos en clase, con el fin de poder visualizar mejor los resultados."
      ],
      "metadata": {
        "id": "TkjWQUQZPm5S"
      }
    },
    {
      "cell_type": "markdown",
      "source": [
        "### Adelgazamiento"
      ],
      "metadata": {
        "id": "3g9X8MF0-mFr"
      }
    },
    {
      "cell_type": "markdown",
      "source": [
        "Este código implementa un proceso de adelgazamiento en imágenes binarias, un paso común en el procesamiento de imágenes para simplificar la representación de objetos mientras se conservan sus características importantes, como bordes y conectividad.\n",
        "\n",
        "A continuación, se proporciona una explicación paso a paso del código y un análisis de por qué se realiza de esta manera:\n",
        "\n",
        "* Se definen patrones específicos (elementos estructurales) que se buscan eliminar en la imagen.\n",
        "\n",
        "* Se realizan rotaciones de estos patrones para considerar todas las orientaciones posibles.\n",
        "\n",
        "* En un bucle, se aplican operaciones de \"Hit-or-Miss\" para buscar y eliminar estos patrones en la imagen.\n",
        "\n",
        "* El bucle se repite hasta que la imagen no pueda adelgazarse más, lo que significa que se han eliminado todos los detalles no esenciales.\n",
        "\n",
        "* La imagen resultante después de este proceso se devuelve como resultado.\n",
        "\n",
        "El adelgazamiento se utiliza comúnmente en el procesamiento de imágenes para simplificar y reducir la complejidad de las representaciones binarias, lo que facilita tareas como el reconocimiento de patrones y la detección de objetos. Este enfoque particular utiliza elementos estructurales específicos y la operación \"Hit-or-Miss\" para eliminar gradualmente detalles no esenciales en la imagen mientras se conservan las características clave. El bucle se repite hasta que no se puedan realizar más adelgazamientos, lo que garantiza que se alcance un estado mínimo de la imagen."
      ],
      "metadata": {
        "id": "gM1coScgKN-S"
      }
    },
    {
      "cell_type": "code",
      "source": [
        "def adelgazar(img):\n",
        "    h1 = np.array([[0, 0, 0],[0, 1, 0],[1, 1, 1]])#Elimincación bordes\n",
        "    m1 = np.array([[1, 1, 1],[0, 0, 0],[0, 0, 0]])\n",
        "    h2 = np.array([[0, 0, 0],[1, 1, 0],[0, 1, 0]])#Eliminación bordes\n",
        "    m2 = np.array([[0, 1, 1],[0, 0, 1],[0, 0, 0]])\n",
        "    hit_list = []\n",
        "    miss_list = []\n",
        "    for k in range(4):\n",
        "        hit_list.append(np.rot90(h1, k))#rotar h1\n",
        "        hit_list.append(np.rot90(h2, k))#rotar h2\n",
        "        miss_list.append(np.rot90(m1, k))#rotar m1\n",
        "        miss_list.append(np.rot90(m2, k))#rotar m2\n",
        "    while True:\n",
        "        last = img\n",
        "        for hit, miss in zip(hit_list, miss_list):\n",
        "            hm = m.binary_hit_or_miss(img, hit, miss).astype(int)\n",
        "            img = np.logical_and(img, np.logical_not(hm))\n",
        "        if np.all(img == last):\n",
        "            break\n",
        "    return img"
      ],
      "metadata": {
        "id": "9uOysxJio9UE"
      },
      "execution_count": null,
      "outputs": []
    },
    {
      "cell_type": "code",
      "source": [
        "a = np.zeros((50, 50), dtype=int)\n",
        "a[10:40, 10:40] = 1\n",
        "a[15:35, 15:35] = 0\n",
        "\n",
        "img1 = cv2.imread('pez.jpeg')\n",
        "img1 = cv2.cvtColor(img1, cv2.COLOR_BGR2GRAY) #A escala de grises\n",
        "h,img = cv2.threshold(img1,200,255,cv2.THRESH_BINARY_INV)\n",
        "\n",
        "plt.subplot(121)\n",
        "img=255-img\n",
        "k3 = cv2.getStructuringElement(cv2.MORPH_CROSS,(5,5))\n",
        "img_d = cv2.dilate(img,k3,iterations = 3)\n",
        "\n",
        "plt.imshow(img_d, cmap='gray')\n",
        "skell = adelgazar(img_d)\n",
        "plt.subplot(122)\n",
        "plt.imshow(skell, cmap=\"gray\", interpolation=\"nearest\")\n",
        "plt.show()"
      ],
      "metadata": {
        "colab": {
          "base_uri": "https://localhost:8080/",
          "height": 255
        },
        "id": "f9i9zQVbF0XC",
        "outputId": "62df12a2-f934-4cdd-a273-28bed6580b3b"
      },
      "execution_count": null,
      "outputs": [
        {
          "output_type": "stream",
          "name": "stderr",
          "text": [
            "<ipython-input-4-a650cbb9c436>:16: DeprecationWarning: Please use `binary_hit_or_miss` from the `scipy.ndimage` namespace, the `scipy.ndimage.morphology` namespace is deprecated.\n",
            "  hm = m.binary_hit_or_miss(img, hit, miss).astype(int)\n"
          ]
        },
        {
          "output_type": "display_data",
          "data": {
            "text/plain": [
              "<Figure size 640x480 with 2 Axes>"
            ],
            "image/png": "[encoded data removed]"
          },
          "metadata": {}
        }
      ]
    },
    {
      "cell_type": "markdown",
      "source": [
        "Se observa que los resultados del algoritmo de adelgazamiento son muy buenos, sin embargo, se observa que se pierde algunas uniones del pez, sobre todo separando el cuerpo de la cola."
      ],
      "metadata": {
        "id": "FRl8p-btPZbL"
      }
    }
  ]
}